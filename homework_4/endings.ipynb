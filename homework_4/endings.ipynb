{
 "cells": [
  {
   "cell_type": "code",
   "execution_count": null,
   "metadata": {
    "collapsed": true,
    "deletable": true,
    "editable": true
   },
   "outputs": [],
   "source": [
    "import numpy\n",
    "import pandas\n",
    "import re\n",
    "from pandas import DataFrame\n",
    "from sklearn.linear_model import SGDClassifier"
   ]
  },
  {
   "cell_type": "code",
   "execution_count": null,
   "metadata": {
    "collapsed": true,
    "deletable": true,
    "editable": true
   },
   "outputs": [],
   "source": [
    "train = pandas.read_csv(\"linear_train.txt\", header=None)"
   ]
  },
  {
   "cell_type": "code",
   "execution_count": null,
   "metadata": {
    "collapsed": false,
    "deletable": true,
    "editable": true
   },
   "outputs": [],
   "source": [
    "train"
   ]
  },
  {
   "cell_type": "code",
   "execution_count": null,
   "metadata": {
    "collapsed": false,
    "deletable": true,
    "editable": true
   },
   "outputs": [],
   "source": [
    "alphabet = \"абвгдеёжзийклмнопрстуфхцчшщъыьэюя’'-\"\n",
    "words = numpy.array([\n",
    "    line.lower()\n",
    "    for line in numpy.array(train)[:,0]\n",
    "])\n",
    "targets = numpy.array([\n",
    "    target for target in numpy.array(train)[:,1]\n",
    "])"
   ]
  },
  {
   "cell_type": "code",
   "execution_count": null,
   "metadata": {
    "collapsed": true,
    "deletable": true,
    "editable": true
   },
   "outputs": [],
   "source": [
    "def consists_of_alphabet(word):\n",
    "    for character in word:\n",
    "        if character not in alphabet:\n",
    "            return False\n",
    "    return True"
   ]
  },
  {
   "cell_type": "code",
   "execution_count": null,
   "metadata": {
    "collapsed": false,
    "deletable": true,
    "editable": true
   },
   "outputs": [],
   "source": [
    "good_words = [\n",
    "    word for word in words if consists_of_alphabet(word)\n",
    "]\n",
    "\n",
    "good_targets = [\n",
    "    answer for word, answer in zip(words, targets) if consists_of_alphabet(word)\n",
    "]\n",
    "\n",
    "strange_lines = {\n",
    "    (word, answer) for word, answer in zip(words, targets) if not consists_of_alphabet(word)\n",
    "}\n",
    "\n",
    "targeted_strange_lines = {\n",
    "    (word, answer) for word, answer in strange_lines if answer == 1\n",
    "}"
   ]
  },
  {
   "cell_type": "code",
   "execution_count": null,
   "metadata": {
    "collapsed": false,
    "deletable": true,
    "editable": true
   },
   "outputs": [],
   "source": [
    "len(good_targets), len(good_words)"
   ]
  },
  {
   "cell_type": "code",
   "execution_count": null,
   "metadata": {
    "collapsed": false,
    "deletable": true,
    "editable": true
   },
   "outputs": [],
   "source": [
    "endings_length = 5\n",
    "endings = {\n",
    "    word[-i-1:]\n",
    "    for i in range(endings_length)\n",
    "    for word in good_words\n",
    "}"
   ]
  },
  {
   "cell_type": "code",
   "execution_count": null,
   "metadata": {
    "collapsed": true,
    "deletable": true,
    "editable": true
   },
   "outputs": [],
   "source": [
    "def ends_with(word, ending):\n",
    "    match = re.match(r\".*\" + ending, word)\n",
    "    return (match is not None) and (match.end() == len(word))"
   ]
  },
  {
   "cell_type": "code",
   "execution_count": null,
   "metadata": {
    "collapsed": true
   },
   "outputs": [],
   "source": [
    "regulars = [re.compile(r\".*\" + ending) for ending in endings]"
   ]
  },
  {
   "cell_type": "code",
   "execution_count": null,
   "metadata": {
    "collapsed": true
   },
   "outputs": [],
   "source": [
    "def get_feature(i, j, words=good_words, regulars=regulars):\n",
    "    match = regulars[j].match(words[i])\n",
    "    return 1 if ((match is not None) and (match.end() == len(words[i]))) else 0"
   ]
  },
  {
   "cell_type": "code",
   "execution_count": null,
   "metadata": {
    "collapsed": false
   },
   "outputs": [],
   "source": [
    "rows = []\n",
    "columns = []\n",
    "features = []\n",
    "for i in range(len(good_words)):\n",
    "    for j in range(len(regulars)):\n",
    "        feature = get_feature(i, j)\n",
    "        if feature == 1:\n",
    "            rows.append(i)\n",
    "            columns.append(j)\n",
    "            features.append(1)"
   ]
  },
  {
   "cell_type": "code",
   "execution_count": null,
   "metadata": {
    "collapsed": false,
    "deletable": true,
    "editable": true
   },
   "outputs": [],
   "source": [
    "features = numpy.array([\n",
    "    [1 if ends_with(word, ending) else 0 for ending in endings]\n",
    "    for word in good_words\n",
    "])"
   ]
  },
  {
   "cell_type": "code",
   "execution_count": null,
   "metadata": {
    "collapsed": true,
    "deletable": true,
    "editable": true
   },
   "outputs": [],
   "source": []
  }
 ],
 "metadata": {
  "kernelspec": {
   "display_name": "Python 3",
   "language": "python",
   "name": "python3"
  },
  "language_info": {
   "codemirror_mode": {
    "name": "ipython",
    "version": 3
   },
   "file_extension": ".py",
   "mimetype": "text/x-python",
   "name": "python",
   "nbconvert_exporter": "python",
   "pygments_lexer": "ipython3",
   "version": "3.6.0"
  }
 },
 "nbformat": 4,
 "nbformat_minor": 2
}
