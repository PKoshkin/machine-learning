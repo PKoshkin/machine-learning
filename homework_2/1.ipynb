{
 "cells": [
  {
   "cell_type": "markdown",
   "metadata": {},
   "source": [
    "# 1.1\n",
    "\n",
    "Обозначим через $y$ реальное значение на поступившем объекте, а $y_i$, $i \\in \\{1,..,l\\}$ - значения на объектах обучающей выборки, попавших один лист с $y$.\n",
    "\n",
    "Посчитаем матожидание ошибки в первом случае:\n",
    "\n",
    "$$E(MSE_1) = E\\Bigl(y-\\frac{1}{l}\\sum\\limits_{i=1}^l y_i\\Bigr)^2 =\n",
    "Ey^2 - 2\\cdot Ey\\cdot E\\Bigl(\\frac{1}{l}\\sum\\limits_{i=1}^l y_i\\Bigr)+E\\Bigl(\\frac{1}{l}\\sum\\limits_{i=1}^l y_i\\Bigr)^2$$\n",
    "\n",
    "Ясно, что $\\forall i\\in\\{1,..,l\\} Ey_i=Ey_1$. Поэтому\n",
    "\n",
    "$$E(MSE_1)= Ey^2 - 2\\cdot Ey\\cdot Ey_1+\\frac{1}{l^2}E\\Bigl(\\sum\\limits_{i=1}^l y_i\\Bigr)^2=\n",
    "Ey^2 - 2\\cdot Ey\\cdot Ey_1+\\frac{1}{l} Ey_1^2 + \\frac{1}{l^2}l(l-1)(Ey_1)^2=\n",
    "Ey^2 - 2\\cdot Ey\\cdot Ey_1+\\frac{1}{l} Ey_1^2 + (1-\\frac{1}{l})(Ey_1)^2$$\n",
    "\n",
    "Во стором случае\n",
    "\n",
    "$$E(MSE_2) = E(y-y_i)^2 = Ey^2 - 2\\cdot Ey\\cdot Ey_1 + Ey_1^2$$\n",
    "\n",
    "Теперь сравним результаты:\n",
    "\n",
    "$$E(MSE_1) - E(MSE_2) = Ey^2 - 2\\cdot Ey\\cdot Ey_1+\\frac{1}{l} Ey_1^2 + (1-\\frac{1}{l})(Ey_1)^2 - Ey^2 + 2\\cdot Ey\\cdot Ey_1 - Ey_1^2=(\\frac{1}{l}-1)Dy_1 < 0$$\n",
    "\n",
    "Получилось, что лучше отвечать средним."
   ]
  },
  {
   "cell_type": "code",
   "execution_count": null,
   "metadata": {
    "collapsed": true
   },
   "outputs": [],
   "source": []
  }
 ],
 "metadata": {
  "kernelspec": {
   "display_name": "Python 3",
   "language": "python",
   "name": "python3"
  },
  "language_info": {
   "codemirror_mode": {
    "name": "ipython",
    "version": 3
   },
   "file_extension": ".py",
   "mimetype": "text/x-python",
   "name": "python",
   "nbconvert_exporter": "python",
   "pygments_lexer": "ipython3",
   "version": "3.6.0"
  }
 },
 "nbformat": 4,
 "nbformat_minor": 2
}
